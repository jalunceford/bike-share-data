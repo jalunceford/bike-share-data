{
 "cells": [
  {
   "cell_type": "markdown",
   "metadata": {},
   "source": [
    "Bike Share Data Web App Code - Capital One Mindsumo Challenge\n",
    "By: Jack Lunceford\n",
    "Enjoy!\n",
    "P.S. Thank you so much for the opportunity to continue in the selection process! I greatly appreciate it!\n",
    "side note-some requirements may be out of order-my apologies!"
   ]
  },
  {
   "cell_type": "code",
   "execution_count": null,
   "metadata": {},
   "outputs": [],
   "source": [
    "import pandas as pd\n",
    "df = pd.read_csv(\"metro-bike-share-trip-data.csv\")\n",
    "df"
   ]
  },
  {
   "cell_type": "code",
   "execution_count": null,
   "metadata": {},
   "outputs": [],
   "source": [
    "list = []\n",
    "list.append(pd.value_counts(df['Starting Station ID']))\n",
    "print list"
   ]
  },
  {
   "cell_type": "markdown",
   "metadata": {},
   "source": [
    "From above, we can see that the pd.value_counts() function outputs the frequency, or amount of appearance times within the list, for each Starting Station ID. The output is in descending order, with the most common Start Station at the top-3069.0."
   ]
  },
  {
   "cell_type": "code",
   "execution_count": null,
   "metadata": {},
   "outputs": [],
   "source": [
    "list2 = []\n",
    "list2.append(pd.value_counts(df['Ending Station ID']))\n",
    "print list2"
   ]
  },
  {
   "cell_type": "markdown",
   "metadata": {},
   "source": [
    "Same thing here, but this time, the most common Ending Station is 3005.0."
   ]
  },
  {
   "cell_type": "code",
   "execution_count": null,
   "metadata": {},
   "outputs": [],
   "source": [
    "passholder_type_list=[]\n",
    "for row in df['Passholder Type']:\n",
    "    passholder_type_list.append(row)"
   ]
  },
  {
   "cell_type": "code",
   "execution_count": null,
   "metadata": {},
   "outputs": [],
   "source": [
    "pd.value_counts(df['Passholder Type'])"
   ]
  },
  {
   "cell_type": "code",
   "execution_count": null,
   "metadata": {},
   "outputs": [],
   "source": [
    "passholder_type_list.count('Monthly Pass')+passholder_type_list.count('Flex Pass')+passholder_type_list.count('Staff Annual')"
   ]
  },
  {
   "cell_type": "markdown",
   "metadata": {},
   "source": [
    "The above cell tells us that the amount of riders that include bike sharing as a regular part of their commute is 91203."
   ]
  },
  {
   "cell_type": "code",
   "execution_count": null,
   "metadata": {},
   "outputs": [],
   "source": [
    "startingLongitudes=[]\n",
    "for row in df['Starting Station Longitude']:\n",
    "    startingLongitudes.append(row)"
   ]
  },
  {
   "cell_type": "code",
   "execution_count": null,
   "metadata": {},
   "outputs": [],
   "source": [
    "startingLatitudes=[]\n",
    "for row in df['Starting Station Latitude']:\n",
    "    startingLatitudes.append(row)"
   ]
  },
  {
   "cell_type": "code",
   "execution_count": null,
   "metadata": {},
   "outputs": [],
   "source": [
    "endingLatitudes=[]\n",
    "for row in df['Ending Station Latitude']:\n",
    "    endingLatitudes.append(row)"
   ]
  },
  {
   "cell_type": "code",
   "execution_count": null,
   "metadata": {},
   "outputs": [],
   "source": [
    "endingLongitudes=[]\n",
    "for row in df['Ending Station Longitude']:\n",
    "    endingLongitudes.append(row)\n",
    "print endingLongitudes"
   ]
  },
  {
   "cell_type": "code",
   "execution_count": null,
   "metadata": {},
   "outputs": [],
   "source": [
    "import geopy.distance"
   ]
  },
  {
   "cell_type": "code",
   "execution_count": null,
   "metadata": {
    "scrolled": true
   },
   "outputs": [],
   "source": [
    "import math\n",
    "distances=[]\n",
    "\n",
    "for i in range(len(df)):\n",
    "    if tripRouteCategories[i]=='Round Trip':\n",
    "        print \"distance traveled=0.0 (Round Trip)\"\n",
    "    else:\n",
    "        if math.isnan(startingLatitudes[i])==True or math.isnan(startingLongitudes[i])==True or math.isnan(endingLatitudes[i])==True or math.isnan(endingLongitudes[i])==True or startingLatitudes[i]==0.0 or startingLongitudes[i]==0.0 or endingLatitudes[i]==0.0 or endingLongitudes[i]==0.0:\n",
    "            print \"Coordinate missing\"\n",
    "        else:\n",
    "            firstPointCoords=(startingLatitudes[i], startingLongitudes[i])\n",
    "            secondPointCoords=(endingLatitudes[i], endingLongitudes[i])\n",
    "            distance=geopy.distance.vincenty(firstPointCoords, secondPointCoords).miles\n",
    "            distances.append(distance)"
   ]
  },
  {
   "cell_type": "code",
   "execution_count": null,
   "metadata": {
    "scrolled": true
   },
   "outputs": [],
   "source": [
    "import numpy as np\n",
    "print np.mean(distances)"
   ]
  },
  {
   "cell_type": "markdown",
   "metadata": {},
   "source": [
    "Above cell tells us the average distance traveled for a given ride-~0.734 miles."
   ]
  },
  {
   "cell_type": "code",
   "execution_count": null,
   "metadata": {},
   "outputs": [],
   "source": [
    "from matplotlib import pyplot as plt"
   ]
  },
  {
   "cell_type": "code",
   "execution_count": null,
   "metadata": {},
   "outputs": [],
   "source": [
    "tripRouteCategories=[]\n",
    "for i in df['Trip Route Category']:\n",
    "    tripRouteCategories.append(i)\n",
    "    "
   ]
  },
  {
   "cell_type": "code",
   "execution_count": null,
   "metadata": {},
   "outputs": [],
   "source": [
    "durations=[]\n",
    "for row in df['Duration']:\n",
    "    durations.append(row)"
   ]
  },
  {
   "cell_type": "code",
   "execution_count": null,
   "metadata": {},
   "outputs": [],
   "source": [
    "trendsduration=[]\n",
    "trendsD=[];\n",
    "for i in range(len(df)):\n",
    "    if tripRouteCategories[i]!='Round Trip' and math.isnan(startingLatitudes[i])==False and math.isnan(startingLongitudes[i])==False and math.isnan(endingLatitudes[i])==False and math.isnan(endingLongitudes[i])==False and startingLatitudes[i]!=0.0 and startingLongitudes[i]!=0.0 and endingLatitudes[i]!=0.0 and endingLongitudes[i]!=0.0:\n",
    "        trendsduration.append(durations[i])\n",
    "        firstPointCoords=(startingLatitudes[i], startingLongitudes[i])\n",
    "        secondPointCoords=(endingLatitudes[i], endingLongitudes[i])\n",
    "        distance=geopy.distance.vincenty(firstPointCoords, secondPointCoords).miles\n",
    "        trendsD.append(distance)\n",
    "\n",
    "    \n",
    "\n"
   ]
  },
  {
   "cell_type": "code",
   "execution_count": null,
   "metadata": {},
   "outputs": [],
   "source": [
    "plt.plot(trendsduration, trendsD, 'o')\n",
    "plt.title(\"Time vs. Distance Covered per Ride (Speed)\")\n",
    "plt.xlabel(\"Duration (Seconds)\")\n",
    "plt.ylabel(\"Distance Covered (miles)\")\n",
    "plt.show()"
   ]
  },
  {
   "cell_type": "markdown",
   "metadata": {},
   "source": [
    "The graph above tells us the speed of each ride. According to the data, the speeds vary greatly, even when riders travel the same distance. However, most of the data points do seem to be bunched up near the bottom left corner, indicating maybe around less than 0-3 miles is the most common distance covered and that around 0-2000 seconds is the most common duration per ride. The axis intervals can be manipulated in order to more clearly see trends in the data (this is a common theme for most of my graphs). "
   ]
  },
  {
   "cell_type": "code",
   "execution_count": null,
   "metadata": {},
   "outputs": [],
   "source": [
    "starting_station_ids=[]\n",
    "for row in df[\"Starting Station ID\"]:\n",
    "    starting_station_ids.append(row)"
   ]
  },
  {
   "cell_type": "code",
   "execution_count": null,
   "metadata": {},
   "outputs": [],
   "source": [
    "speeds=[]\n",
    "selectStartingStationIDs=[]\n",
    "for i in range(len(df)):\n",
    "    if tripRouteCategories[i]!='Round Trip' and math.isnan(startingLatitudes[i])==False and math.isnan(startingLongitudes[i])==False and math.isnan(endingLatitudes[i])==False and math.isnan(endingLongitudes[i])==False and startingLatitudes[i]!=0.0 and startingLongitudes[i]!=0.0 and endingLatitudes[i]!=0.0 and endingLongitudes[i]!=0.0:\n",
    "        trendsduration.append(durations[i])\n",
    "        firstPointCoords=(startingLatitudes[i], startingLongitudes[i])\n",
    "        secondPointCoords=(endingLatitudes[i], endingLongitudes[i])\n",
    "        distance=geopy.distance.vincenty(firstPointCoords, secondPointCoords).miles\n",
    "        trendsD.append(distance)\n",
    "        speeds.append(distance/durations[i])\n",
    "        selectStartingStationIDs.append(starting_station_ids[i])"
   ]
  },
  {
   "cell_type": "code",
   "execution_count": null,
   "metadata": {},
   "outputs": [],
   "source": [
    "plt.plot(selectStartingStationIDs, speeds, \"o\")\n",
    "plt.title(\"Speed at each Starting Station ID\")\n",
    "plt.xlabel(\"Starting Station ID\")\n",
    "plt.ylabel(\"Speed (miles/second)\")\n",
    "plt.show()"
   ]
  },
  {
   "cell_type": "markdown",
   "metadata": {},
   "source": [
    "The above graph depicts the speed of each ride stemming from the at Starting Station ID for that ride. This dataset includes every ride within in the dataframe, so it is a little confusing at first. However, when the axis intervals are manipulated, trends can more easily be observed. One such trend that can also be seen in the previous graph is that there seemed to have been some sort of bike race at Starting Station ID 4000-something. Also, the speed for riders seems to be arround 0-.004 miles/second. This data can be used to infer traffic patterns, as lots of riders probably ride on the streets. Starting Stations with slower speeds stemming from them may have high traffic rates close by."
   ]
  },
  {
   "cell_type": "code",
   "execution_count": null,
   "metadata": {},
   "outputs": [],
   "source": [
    "bikeIds=[]\n",
    "for row in df[\"Bike ID\"]:\n",
    "    bikeIds.append(row)"
   ]
  },
  {
   "cell_type": "code",
   "execution_count": null,
   "metadata": {},
   "outputs": [],
   "source": [
    "tripIds=[]\n",
    "for row in df[\"Trip ID\"]:\n",
    "    tripIds.append(row)"
   ]
  },
  {
   "cell_type": "code",
   "execution_count": null,
   "metadata": {},
   "outputs": [],
   "source": [
    "import math\n",
    "selectBikeIds=[]\n",
    "selectTripIds=[]\n",
    "for i in range(len(df)):\n",
    "        if math.isnan(startingLatitudes[i])==True or math.isnan(startingLongitudes[i])==True or math.isnan(endingLatitudes[i])==True or math.isnan(endingLongitudes[i])==True or startingLatitudes[i]==0.0 or startingLongitudes[i]==0.0 or endingLatitudes[i]==0.0 or endingLongitudes[i]==0.0:\n",
    "            selectBikeIds.append(bikeIds[i])\n",
    "            selectTripIds.append(tripIds[i])"
   ]
  },
  {
   "cell_type": "code",
   "execution_count": null,
   "metadata": {},
   "outputs": [],
   "source": [
    "plt.plot(selectTripIds, selectBikeIds, 'o')\n",
    "plt.title(\"Trips that contained missing or invalid coordinate values (Bike ID number attached to Trip Number)\")\n",
    "plt.xlabel(\"Trip ID\")\n",
    "plt.ylabel(\"Bike ID\")\n",
    "plt.show()"
   ]
  },
  {
   "cell_type": "markdown",
   "metadata": {},
   "source": [
    "I chose to create this graph because when performing calculations throughout the coding challenge, I was intrigued by the missing coordinate values and empty cells in the excel spreadsheet. Maybe this graph will lead to some insight as to which bikes did not yield sufficient location data, and for which trips."
   ]
  },
  {
   "cell_type": "code",
   "execution_count": null,
   "metadata": {},
   "outputs": [],
   "source": [
    "import pandas as pd\n",
    "df=pd.read_csv(\"metro-bike-share-trip-data.csv\", parse_dates=[\"Start Time\"], index_col=\"Start Time\")"
   ]
  },
  {
   "cell_type": "code",
   "execution_count": null,
   "metadata": {},
   "outputs": [],
   "source": [
    "plt.plot(df[\"Duration\"].resample('M').mean())\n",
    "plt.title(\"Average Trip Duration per Month\")\n",
    "plt.xlabel(\"Months\")\n",
    "plt.ylabel(\"Average Trip Duration (seconds)\")\n",
    "plt.show()"
   ]
  },
  {
   "cell_type": "markdown",
   "metadata": {},
   "source": [
    "Above is a graph that depicts how average trip duration varies month to month. I decided to resample the data by month because of the short amount of seasons included in the time frame of the data set. "
   ]
  },
  {
   "cell_type": "code",
   "execution_count": null,
   "metadata": {},
   "outputs": [],
   "source": [
    "listMonths=pd.date_range('2016-07','2017-03', freq='MS').strftime(\"%Y-%m\").tolist()\n",
    "print listMonths"
   ]
  },
  {
   "cell_type": "code",
   "execution_count": null,
   "metadata": {},
   "outputs": [],
   "source": [
    "realListMonths=[]\n",
    "for row in listMonths:\n",
    "    realListMonths.append(row.encode(\"utf-8\"))\n",
    "print realListMonths\n"
   ]
  },
  {
   "cell_type": "code",
   "execution_count": null,
   "metadata": {},
   "outputs": [],
   "source": [
    "pd.value_counts(df[\"Passholder Type\"][realListMonths[0]])"
   ]
  },
  {
   "cell_type": "code",
   "execution_count": null,
   "metadata": {},
   "outputs": [],
   "source": [
    "for i in range(len(realListMonths)):\n",
    "    plt.plot(pd.value_counts(df[\"Passholder Type\"][realListMonths[i]]))\n",
    "    plt.title(realListMonths[i])\n",
    "    plt.xlabel(\"Passholder Type\")\n",
    "    plt.ylabel(\"Quantity\")\n",
    "    plt.show()\n",
    "\n",
    "\n"
   ]
  },
  {
   "cell_type": "markdown",
   "metadata": {},
   "source": [
    "Above depicts the change in the occurence of each Passholder Type over the course of the months included in the dataset. I separated the data into separate monthly graphs because when I tried plotting the data in one graph, the output was a really confusing graph."
   ]
  },
  {
   "cell_type": "code",
   "execution_count": null,
   "metadata": {},
   "outputs": [],
   "source": [
    "for i in range(len(realListMonths)):\n",
    "    plt.plot(pd.value_counts(df[\"Trip Route Category\"][realListMonths[i]]))\n",
    "    plt.title(realListMonths[i])\n",
    "    plt.xlabel(\"Trip Route Category\")\n",
    "    plt.ylabel(\"Quantity\")\n",
    "    plt.show()"
   ]
  },
  {
   "cell_type": "markdown",
   "metadata": {},
   "source": [
    "Above is the same as the previous graph except for it's measuring trip route category frequencies."
   ]
  },
  {
   "cell_type": "code",
   "execution_count": null,
   "metadata": {},
   "outputs": [],
   "source": [
    "for i in range(len(realListMonths)):\n",
    "    plt.plot(pd.value_counts(df[\"Starting Station ID\"][realListMonths[i]]), \"o\")\n",
    "    plt.title(realListMonths[i])\n",
    "    plt.xlabel(\"Starting Station ID\")\n",
    "    plt.ylabel(\"Quantity\")\n",
    "    plt.show()"
   ]
  },
  {
   "cell_type": "markdown",
   "metadata": {},
   "source": [
    "This graph above shows the monthly change in quanitity of usage of each starting station."
   ]
  },
  {
   "cell_type": "code",
   "execution_count": null,
   "metadata": {},
   "outputs": [],
   "source": [
    "for i in range(len(realListMonths)):\n",
    "    plt.plot(pd.value_counts(df[\"Ending Station ID\"][realListMonths[i]]), \"o\")\n",
    "    plt.title(realListMonths[i])\n",
    "    plt.xlabel(\"Ending Station ID\")\n",
    "    plt.ylabel(\"Quantity\")\n",
    "    plt.show()"
   ]
  },
  {
   "cell_type": "markdown",
   "metadata": {},
   "source": [
    "This graph is the same as the previous one except that it's measuring ending station frequencies."
   ]
  },
  {
   "cell_type": "code",
   "execution_count": null,
   "metadata": {},
   "outputs": [],
   "source": [
    "dict=(zip(tripRouteCategories, passholder_type_list))"
   ]
  },
  {
   "cell_type": "code",
   "execution_count": null,
   "metadata": {},
   "outputs": [],
   "source": [
    "a=np.unique(dict, axis=0)\n",
    "b=[]\n",
    "for i in a:\n",
    "    b.append(tuple(i))\n",
    "print b"
   ]
  },
  {
   "cell_type": "code",
   "execution_count": null,
   "metadata": {},
   "outputs": [],
   "source": [
    "for row in b:\n",
    "    print row, dict.count(row)"
   ]
  },
  {
   "cell_type": "markdown",
   "metadata": {},
   "source": [
    "Above is the breakdown of Trip Route Category-Passholder Type combinations. I think it would make sense for the one way, monthly pass combination to be most frequent given that lots of people are trying to get to work and don't worry about taking the exact bike they started with back home. Also, Staff Annual combinations are at the bottom because ordinary users probably outnumber staff."
   ]
  },
  {
   "cell_type": "code",
   "execution_count": null,
   "metadata": {},
   "outputs": [],
   "source": [
    "ending_station_ids=[]\n",
    "for row in df[\"Ending Station ID\"]:\n",
    "    ending_station_ids.append(row)\n"
   ]
  },
  {
   "cell_type": "code",
   "execution_count": null,
   "metadata": {},
   "outputs": [],
   "source": [
    "bikeids=[]\n",
    "for row in df[\"Bike ID\"]:\n",
    "    bikeids.append(row)"
   ]
  },
  {
   "cell_type": "code",
   "execution_count": null,
   "metadata": {},
   "outputs": [],
   "source": [
    "import math\n",
    "setStartingStationIDs=[value for value in set(starting_station_ids) if not math.isnan(value)]\n"
   ]
  },
  {
   "cell_type": "code",
   "execution_count": null,
   "metadata": {},
   "outputs": [],
   "source": [
    "sortedStartingStationIDs=sorted(setStartingStationIDs, key=float, reverse=True)\n",
    "sortedEndingStationIDs=sorted(setEndingStationIDs, key=float, reverse=True)\n",
    "\n",
    "\n",
    "    \n"
   ]
  },
  {
   "cell_type": "code",
   "execution_count": null,
   "metadata": {},
   "outputs": [],
   "source": [
    "diffs=[]\n",
    "for row in sortedStartingStationIDs:\n",
    "    diff=ending_station_ids.count(row)-starting_station_ids.count(row)\n",
    "    diffs.append(diff)\n",
    "\n",
    "    "
   ]
  },
  {
   "cell_type": "code",
   "execution_count": 15,
   "metadata": {
    "scrolled": false
   },
   "outputs": [
    {
     "ename": "NameError",
     "evalue": "name 'sortedStartingStationIDs' is not defined",
     "output_type": "error",
     "traceback": [
      "\u001b[0;31m---------------------------------------------------------------------------\u001b[0m",
      "\u001b[0;31mNameError\u001b[0m                                 Traceback (most recent call last)",
      "\u001b[0;32m<ipython-input-15-4de726a0bc16>\u001b[0m in \u001b[0;36m<module>\u001b[0;34m()\u001b[0m\n\u001b[0;32m----> 1\u001b[0;31m \u001b[0mdict2\u001b[0m\u001b[0;34m=\u001b[0m\u001b[0mzip\u001b[0m\u001b[0;34m(\u001b[0m\u001b[0msortedStartingStationIDs\u001b[0m\u001b[0;34m,\u001b[0m \u001b[0mdiffs\u001b[0m\u001b[0;34m)\u001b[0m\u001b[0;34m\u001b[0m\u001b[0m\n\u001b[0m\u001b[1;32m      2\u001b[0m \u001b[0;32mprint\u001b[0m \u001b[0mdict2\u001b[0m\u001b[0;34m\u001b[0m\u001b[0m\n",
      "\u001b[0;31mNameError\u001b[0m: name 'sortedStartingStationIDs' is not defined"
     ]
    }
   ],
   "source": [
    "dict2=zip(sortedStartingStationIDs, diffs)\n",
    "print dict2"
   ]
  },
  {
   "cell_type": "markdown",
   "metadata": {},
   "source": [
    "Above shows the net change of bikes per station over the course of the entire time period. Bikes should be transported to stations with the highest negative numbers (or decreases in bikes). So, those would be stations like station 3068.0, which lost 2269 bikes over the time period."
   ]
  }
 ],
 "metadata": {
  "kernelspec": {
   "display_name": "Python 2",
   "language": "python",
   "name": "python2"
  },
  "language_info": {
   "codemirror_mode": {
    "name": "ipython",
    "version": 2
   },
   "file_extension": ".py",
   "mimetype": "text/x-python",
   "name": "python",
   "nbconvert_exporter": "python",
   "pygments_lexer": "ipython2",
   "version": "2.7.15"
  }
 },
 "nbformat": 4,
 "nbformat_minor": 2
}
